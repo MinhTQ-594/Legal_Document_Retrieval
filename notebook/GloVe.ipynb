{
 "cells": [
  {
   "cell_type": "code",
   "execution_count": 1,
   "id": "feb37dd0",
   "metadata": {},
   "outputs": [],
   "source": [
    "from py_vncorenlp import VnCoreNLP\n",
    "import numpy as np \n",
    "from collections import defaultdict\n",
    "from tqdm import tqdm"
   ]
  },
  {
   "cell_type": "code",
   "execution_count": 2,
   "id": "9d9a7f86",
   "metadata": {},
   "outputs": [],
   "source": [
    "model = VnCoreNLP(\n",
    "    save_dir=r\"C:\\Users\\Admin\\Documents\\2024.2\\NLP\\Project\\VnCoreNLP-master\",\n",
    "    max_heap_size='-Xmx2g',\n",
    "    annotators=[\"wseg\"]\n",
    ")"
   ]
  },
  {
   "cell_type": "code",
   "execution_count": 3,
   "id": "205fe085",
   "metadata": {},
   "outputs": [],
   "source": [
    "import json\n",
    "import re\n",
    "# [\n",
    "# {\n",
    "#     \"law_id\": \"01/2009/tt-bnn\",\n",
    "#     \"articles\": [\n",
    "#         {\n",
    "#             \"article_id\": \"1\",\n",
    "#             \"title\": \"Điều 1. Phạm vi áp dụng\",\n",
    "#             \"text\": \"Thông tư này hướng dẫn tuần tra, canh gác bảo vệ đê Điều trong mùa lũ đối với các tuyến đê sông được phân loại, phân cấp theo quy định tại Điều 4 của Luật Đê Điều.\",\n",
    "#             \"processed_in4\": \"Phạm_vi áp_dụng Thông_tư hướng_dẫn tuần_tra , canh_gác bảo_vệ đê Điều mùa lũ tuyến đê sông phân_loại , phân_cấp quy_định Điều 4 Luật Đê_Điều .\"\n",
    "#         },\n",
    "\n",
    "sentences =[]\n",
    "with open(r\"C:\\Users\\Admin\\Documents\\2024.2\\NLP\\Project\\dataset\\legal_corpus.json\", encoding = 'utf-8') as f:\n",
    "    data = json.load(f)\n",
    "    for doc in data:\n",
    "        for article in doc['articles']:\n",
    "            tokens = re.sub(r'[^\\w\\s_ÀÁÂÃÈÉÊÌÍÒÓÔÕÙÚĂĐĨŨƠàáâãèéêìíòóôõùúăđĩũơưăạ-ỹ]', '', article['processed_in4']).split()\n",
    "            sentences.append(tokens)"
   ]
  },
  {
   "cell_type": "code",
   "execution_count": 4,
   "id": "1f4aa0d3",
   "metadata": {},
   "outputs": [
    {
     "name": "stdout",
     "output_type": "stream",
     "text": [
      "['Tổ_chức', 'lực_lượng', '1', 'Hàng', 'mùa', 'mưa', 'lũ', 'Uỷ_ban_nhân_dân', 'xã', 'đê', 'tổ_chức', 'lực_lượng', 'lao_động', 'địa_phương', 'tuần_tra', 'canh_gác', 'đê', 'thường_trực', 'điếm_canh', 'đê', 'dân', 'khu_vực', 'đê', 'khu_vực', 'điếm_canh', 'đê', 'báo_động', 'lũ', 'I', 'trở', 'tuyến', 'sông', 'đê', 'gọi', 'tắt', 'lực_lượng', 'tuần_tra', 'canh_gác', 'đê', '2', 'Lực_lượng', 'tuần_tra', 'canh_gác', 'đê', 'tổ_chức', 'thành', 'đội', 'Uỷ_ban_nhân_dân', 'xã', 'quyết_định', 'thành_lập', '01', '02', 'kilômét', 'đê', 'thành_lập', '01', 'đội', 'đội', '12', '18', '01', 'đội_trưởng', '01', '02', 'đội', 'phó', 'Danh_sách', 'thành_viên', 'đội', 'tuần_tra', 'canh_gác', 'đê', 'niêm_yết', 'điếm_canh', 'đê', 'địa_bàn', 'phân_công', '3', 'Khi', 'lũ', 'bão', 'diễn_biến', 'phức_tạp', 'kéo_dài', 'Uỷ_ban_nhân_dân', 'xã', 'quyết_định', 'bổ_sung', 'thành_viên', 'đội', 'tuần_tra', 'canh_gác', 'đê']\n"
     ]
    }
   ],
   "source": [
    "print(sentences[1])"
   ]
  },
  {
   "cell_type": "markdown",
   "id": "dd7fae46",
   "metadata": {},
   "source": [
    "# 1. Coccurence - Matrix"
   ]
  },
  {
   "cell_type": "code",
   "execution_count": 5,
   "id": "d88d0777",
   "metadata": {},
   "outputs": [],
   "source": [
    "def Vocab(sentences, min_count = 1):\n",
    "    vocab = defaultdict(int)\n",
    "    for sentence in sentences:\n",
    "        for word in sentence:\n",
    "            vocab[word] += 1\n",
    "    # Only keep work with the occurence > min_count = 1\n",
    "    vocab = {w : i for i, (w,c) in enumerate(vocab.items()) if c >= min_count}\n",
    "    return vocab"
   ]
  },
  {
   "cell_type": "code",
   "execution_count": 6,
   "id": "99fc6aa7",
   "metadata": {},
   "outputs": [],
   "source": [
    "def cocurrence_matrix(sentences, vocab, window_size = 5):\n",
    "    matrix = defaultdict(lambda : defaultdict(float))\n",
    "    for sentence in tqdm(sentences):\n",
    "        sentence = [w for w in sentence if w in vocab]\n",
    "        for i, word in enumerate(sentence):\n",
    "            for j in range(max(0, i - window_size), min(len(sentence) - 1, i + window_size)):\n",
    "                if i != j:\n",
    "                    word_i = vocab[word] #map: word -> int\n",
    "                    word_j = vocab[sentence[j]]\n",
    "                    distance = abs(i - j)\n",
    "                    matrix[word_i][word_j] += 1.0/distance #if the word is nearer, it is more important\n",
    "    return matrix"
   ]
  },
  {
   "cell_type": "markdown",
   "id": "dfd43057",
   "metadata": {},
   "source": [
    "# 2. Vector initialization"
   ]
  },
  {
   "cell_type": "code",
   "execution_count": 7,
   "id": "206dea3b",
   "metadata": {},
   "outputs": [],
   "source": [
    "def initialize_params(vocab_size, embedding_dim):\n",
    "    # we have vocab_size word, each word is represented by a vector shape (embedding_dim)\n",
    "    w = np.random.rand(vocab_size, embedding_dim)/ np.sqrt(embedding_dim)\n",
    "    w_tilde = np.random.rand(vocab_size, embedding_dim)/ np.sqrt(embedding_dim)\n",
    "    b = np.zeros(vocab_size)\n",
    "    b_tilde = np.zeros(vocab_size)\n",
    "\n",
    "    # Gradient accumulators (AdaGrad)\n",
    "    gradsq_w = np.ones_like(w)\n",
    "    gradsq_w_tilde = np.ones_like(w_tilde)\n",
    "    gradsq_b = np.ones_like(b)\n",
    "    gradsq_b_tilde = np.ones_like(b_tilde)\n",
    "\n",
    "    return w, w_tilde, b, b_tilde, gradsq_w, gradsq_w_tilde, gradsq_b, gradsq_b_tilde\n"
   ]
  },
  {
   "cell_type": "code",
   "execution_count": 8,
   "id": "40394679",
   "metadata": {},
   "outputs": [],
   "source": [
    "def weighting_fn(x, x_max = 100, alpha = 0.75):\n",
    "    return (x/x_max)**alpha if x < x_max else 1"
   ]
  },
  {
   "cell_type": "code",
   "execution_count": 9,
   "id": "723af81c",
   "metadata": {},
   "outputs": [],
   "source": [
    "import math"
   ]
  },
  {
   "cell_type": "markdown",
   "id": "60b6a163",
   "metadata": {},
   "source": [
    "# 3. Training"
   ]
  },
  {
   "cell_type": "code",
   "execution_count": 10,
   "id": "1139b4c9",
   "metadata": {},
   "outputs": [],
   "source": [
    "def train_glove(matrix, vocab_size, embedding_dim=50, epochs=25, x_max=100, alpha=0.75, learning_rate=0.05, patience=3):\n",
    "    W, W_tilde, b, b_tilde, gradsq_W, gradsq_W_tilde, gradsq_b, gradsq_b_tilde = initialize_params(vocab_size, embedding_dim)\n",
    "\n",
    "    best_loss = float('inf')\n",
    "    best_params = None\n",
    "    epochs_without_improvement = 0\n",
    "\n",
    "    for epoch in range(epochs):\n",
    "        total_loss = 0\n",
    "        for i in tqdm(matrix):\n",
    "            for j in matrix[i]:\n",
    "                X_ij = matrix[i][j]\n",
    "                weight = weighting_fn(X_ij, x_max, alpha)\n",
    "                inner_product = np.dot(W[i], W_tilde[j])\n",
    "                loss = inner_product + b[i] + b_tilde[j] - math.log(X_ij)\n",
    "                weighted_loss = weight * loss\n",
    "\n",
    "                total_loss += 0.5 * weighted_loss ** 2\n",
    "\n",
    "                grad = weighted_loss\n",
    "                grad_W_i = grad * W_tilde[j]\n",
    "                grad_W_tilde_j = grad * W[i]\n",
    "\n",
    "                # AdaGrad update\n",
    "                W[i] -= learning_rate * grad_W_i / np.sqrt(gradsq_W[i] + 1e-8)\n",
    "                W_tilde[j] -= learning_rate * grad_W_tilde_j / np.sqrt(gradsq_W_tilde[j] + 1e-8)\n",
    "                b[i] -= learning_rate * grad / np.sqrt(gradsq_b[i] + 1e-8)\n",
    "                b_tilde[j] -= learning_rate * grad / np.sqrt(gradsq_b_tilde[j] + 1e-8)\n",
    "\n",
    "                # Update squared gradients\n",
    "                gradsq_W[i] += grad_W_i ** 2\n",
    "                gradsq_W_tilde[j] += grad_W_tilde_j ** 2\n",
    "                gradsq_b[i] += grad ** 2\n",
    "                gradsq_b_tilde[j] += grad ** 2\n",
    "\n",
    "        print(f\"Epoch {epoch + 1}, Loss: {total_loss:.4f}\")\n",
    "\n",
    "        # Early stopping logic\n",
    "        if total_loss < best_loss:\n",
    "            best_loss = total_loss\n",
    "            best_params = (W.copy(), W_tilde.copy(), b.copy(), b_tilde.copy())\n",
    "            epochs_without_improvement = 0\n",
    "        else:\n",
    "            epochs_without_improvement += 1\n",
    "            if epochs_without_improvement >= patience:\n",
    "                print(f\"Stopping early at epoch {epoch+1} due to no improvement.\")\n",
    "                break\n",
    "\n",
    "    W, W_tilde, _, _ = best_params  # Restore best weights\n",
    "    return W + W_tilde"
   ]
  },
  {
   "cell_type": "code",
   "execution_count": 11,
   "id": "6956a7f3",
   "metadata": {},
   "outputs": [],
   "source": [
    "vocab = Vocab(sentences, min_count = 1)"
   ]
  },
  {
   "cell_type": "code",
   "execution_count": 12,
   "id": "c86b2161",
   "metadata": {},
   "outputs": [
    {
     "name": "stdout",
     "output_type": "stream",
     "text": [
      "33961\n"
     ]
    }
   ],
   "source": [
    "print(len(vocab))"
   ]
  },
  {
   "cell_type": "code",
   "execution_count": 13,
   "id": "420fe444",
   "metadata": {},
   "outputs": [
    {
     "name": "stderr",
     "output_type": "stream",
     "text": [
      "100%|██████████| 61425/61425 [00:20<00:00, 3000.30it/s]\n"
     ]
    }
   ],
   "source": [
    "matrix = cocurrence_matrix(sentences, vocab, window_size = 5)"
   ]
  },
  {
   "cell_type": "code",
   "execution_count": null,
   "id": "baf0850d",
   "metadata": {},
   "outputs": [
    {
     "name": "stderr",
     "output_type": "stream",
     "text": [
      "100%|██████████| 33961/33961 [03:28<00:00, 162.52it/s] \n"
     ]
    },
    {
     "name": "stdout",
     "output_type": "stream",
     "text": [
      "Epoch 1, Loss: 163909.6510\n"
     ]
    },
    {
     "name": "stderr",
     "output_type": "stream",
     "text": [
      "100%|██████████| 33961/33961 [03:03<00:00, 184.95it/s] \n"
     ]
    },
    {
     "name": "stdout",
     "output_type": "stream",
     "text": [
      "Epoch 2, Loss: 146290.2717\n"
     ]
    },
    {
     "name": "stderr",
     "output_type": "stream",
     "text": [
      "100%|██████████| 33961/33961 [01:02<00:00, 539.71it/s] \n"
     ]
    },
    {
     "name": "stdout",
     "output_type": "stream",
     "text": [
      "Epoch 3, Loss: 135444.4122\n"
     ]
    },
    {
     "name": "stderr",
     "output_type": "stream",
     "text": [
      "100%|██████████| 33961/33961 [03:37<00:00, 156.38it/s] \n"
     ]
    },
    {
     "name": "stdout",
     "output_type": "stream",
     "text": [
      "Epoch 4, Loss: 116118.1023\n"
     ]
    },
    {
     "name": "stderr",
     "output_type": "stream",
     "text": [
      "100%|██████████| 33961/33961 [04:04<00:00, 138.78it/s] \n"
     ]
    },
    {
     "name": "stdout",
     "output_type": "stream",
     "text": [
      "Epoch 5, Loss: 97133.7254\n"
     ]
    },
    {
     "name": "stderr",
     "output_type": "stream",
     "text": [
      "100%|██████████| 33961/33961 [03:40<00:00, 154.22it/s] \n"
     ]
    },
    {
     "name": "stdout",
     "output_type": "stream",
     "text": [
      "Epoch 6, Loss: 81267.8543\n"
     ]
    },
    {
     "name": "stderr",
     "output_type": "stream",
     "text": [
      "100%|██████████| 33961/33961 [02:33<00:00, 221.26it/s] \n"
     ]
    },
    {
     "name": "stdout",
     "output_type": "stream",
     "text": [
      "Epoch 7, Loss: 69003.1394\n"
     ]
    },
    {
     "name": "stderr",
     "output_type": "stream",
     "text": [
      "100%|██████████| 33961/33961 [01:02<00:00, 542.81it/s] \n"
     ]
    },
    {
     "name": "stdout",
     "output_type": "stream",
     "text": [
      "Epoch 8, Loss: 59653.3694\n"
     ]
    },
    {
     "name": "stderr",
     "output_type": "stream",
     "text": [
      "100%|██████████| 33961/33961 [01:02<00:00, 539.44it/s] \n"
     ]
    },
    {
     "name": "stdout",
     "output_type": "stream",
     "text": [
      "Epoch 9, Loss: 52420.5939\n"
     ]
    },
    {
     "name": "stderr",
     "output_type": "stream",
     "text": [
      "100%|██████████| 33961/33961 [00:58<00:00, 583.45it/s] \n"
     ]
    },
    {
     "name": "stdout",
     "output_type": "stream",
     "text": [
      "Epoch 10, Loss: 46727.9963\n"
     ]
    },
    {
     "name": "stderr",
     "output_type": "stream",
     "text": [
      "100%|██████████| 33961/33961 [01:00<00:00, 558.45it/s] \n"
     ]
    },
    {
     "name": "stdout",
     "output_type": "stream",
     "text": [
      "Epoch 11, Loss: 42183.7444\n"
     ]
    },
    {
     "name": "stderr",
     "output_type": "stream",
     "text": [
      "100%|██████████| 33961/33961 [01:02<00:00, 547.43it/s] \n"
     ]
    },
    {
     "name": "stdout",
     "output_type": "stream",
     "text": [
      "Epoch 12, Loss: 38513.3294\n"
     ]
    },
    {
     "name": "stderr",
     "output_type": "stream",
     "text": [
      "100%|██████████| 33961/33961 [01:02<00:00, 547.72it/s] \n"
     ]
    },
    {
     "name": "stdout",
     "output_type": "stream",
     "text": [
      "Epoch 13, Loss: 35517.4328\n"
     ]
    },
    {
     "name": "stderr",
     "output_type": "stream",
     "text": [
      "100%|██████████| 33961/33961 [01:47<00:00, 315.30it/s] \n"
     ]
    },
    {
     "name": "stdout",
     "output_type": "stream",
     "text": [
      "Epoch 14, Loss: 33047.3291\n"
     ]
    },
    {
     "name": "stderr",
     "output_type": "stream",
     "text": [
      "100%|██████████| 33961/33961 [03:47<00:00, 149.51it/s] \n"
     ]
    },
    {
     "name": "stdout",
     "output_type": "stream",
     "text": [
      "Epoch 15, Loss: 30989.9750\n"
     ]
    },
    {
     "name": "stderr",
     "output_type": "stream",
     "text": [
      "100%|██████████| 33961/33961 [03:49<00:00, 148.21it/s] \n"
     ]
    },
    {
     "name": "stdout",
     "output_type": "stream",
     "text": [
      "Epoch 16, Loss: 29258.6236\n"
     ]
    },
    {
     "name": "stderr",
     "output_type": "stream",
     "text": [
      "100%|██████████| 33961/33961 [03:40<00:00, 153.72it/s] \n"
     ]
    },
    {
     "name": "stdout",
     "output_type": "stream",
     "text": [
      "Epoch 17, Loss: 27786.5176\n"
     ]
    },
    {
     "name": "stderr",
     "output_type": "stream",
     "text": [
      "100%|██████████| 33961/33961 [01:11<00:00, 473.07it/s] \n"
     ]
    },
    {
     "name": "stdout",
     "output_type": "stream",
     "text": [
      "Epoch 18, Loss: 26522.2474\n"
     ]
    },
    {
     "name": "stderr",
     "output_type": "stream",
     "text": [
      "100%|██████████| 33961/33961 [00:59<00:00, 566.04it/s] \n"
     ]
    },
    {
     "name": "stdout",
     "output_type": "stream",
     "text": [
      "Epoch 19, Loss: 25426.1286\n"
     ]
    },
    {
     "name": "stderr",
     "output_type": "stream",
     "text": [
      "100%|██████████| 33961/33961 [01:00<00:00, 559.09it/s] \n"
     ]
    },
    {
     "name": "stdout",
     "output_type": "stream",
     "text": [
      "Epoch 20, Loss: 24467.3587\n"
     ]
    },
    {
     "name": "stderr",
     "output_type": "stream",
     "text": [
      "100%|██████████| 33961/33961 [01:01<00:00, 555.02it/s] \n"
     ]
    },
    {
     "name": "stdout",
     "output_type": "stream",
     "text": [
      "Epoch 21, Loss: 23621.8373\n"
     ]
    },
    {
     "name": "stderr",
     "output_type": "stream",
     "text": [
      "100%|██████████| 33961/33961 [01:03<00:00, 534.73it/s] \n"
     ]
    },
    {
     "name": "stdout",
     "output_type": "stream",
     "text": [
      "Epoch 22, Loss: 22870.5362\n"
     ]
    },
    {
     "name": "stderr",
     "output_type": "stream",
     "text": [
      "100%|██████████| 33961/33961 [01:00<00:00, 561.47it/s] \n"
     ]
    },
    {
     "name": "stdout",
     "output_type": "stream",
     "text": [
      "Epoch 23, Loss: 22198.2952\n"
     ]
    },
    {
     "name": "stderr",
     "output_type": "stream",
     "text": [
      "100%|██████████| 33961/33961 [00:59<00:00, 568.46it/s] \n"
     ]
    },
    {
     "name": "stdout",
     "output_type": "stream",
     "text": [
      "Epoch 24, Loss: 21592.9339\n"
     ]
    },
    {
     "name": "stderr",
     "output_type": "stream",
     "text": [
      "100%|██████████| 33961/33961 [01:00<00:00, 561.42it/s] \n"
     ]
    },
    {
     "name": "stdout",
     "output_type": "stream",
     "text": [
      "Epoch 25, Loss: 21044.5895\n"
     ]
    },
    {
     "name": "stderr",
     "output_type": "stream",
     "text": [
      "100%|██████████| 33961/33961 [00:59<00:00, 567.84it/s] \n"
     ]
    },
    {
     "name": "stdout",
     "output_type": "stream",
     "text": [
      "Epoch 26, Loss: 20545.2177\n"
     ]
    },
    {
     "name": "stderr",
     "output_type": "stream",
     "text": [
      "100%|██████████| 33961/33961 [01:01<00:00, 554.60it/s] \n"
     ]
    },
    {
     "name": "stdout",
     "output_type": "stream",
     "text": [
      "Epoch 27, Loss: 20088.2105\n"
     ]
    },
    {
     "name": "stderr",
     "output_type": "stream",
     "text": [
      "100%|██████████| 33961/33961 [03:14<00:00, 174.81it/s] \n"
     ]
    },
    {
     "name": "stdout",
     "output_type": "stream",
     "text": [
      "Epoch 28, Loss: 19668.1024\n"
     ]
    },
    {
     "name": "stderr",
     "output_type": "stream",
     "text": [
      "100%|██████████| 33961/33961 [01:00<00:00, 560.31it/s] \n"
     ]
    },
    {
     "name": "stdout",
     "output_type": "stream",
     "text": [
      "Epoch 29, Loss: 19280.3416\n"
     ]
    },
    {
     "name": "stderr",
     "output_type": "stream",
     "text": [
      "100%|██████████| 33961/33961 [01:00<00:00, 559.74it/s] \n"
     ]
    },
    {
     "name": "stdout",
     "output_type": "stream",
     "text": [
      "Epoch 30, Loss: 18921.1112\n"
     ]
    },
    {
     "name": "stderr",
     "output_type": "stream",
     "text": [
      "100%|██████████| 33961/33961 [02:42<00:00, 209.63it/s] \n"
     ]
    },
    {
     "name": "stdout",
     "output_type": "stream",
     "text": [
      "Epoch 31, Loss: 18587.1886\n"
     ]
    },
    {
     "name": "stderr",
     "output_type": "stream",
     "text": [
      "100%|██████████| 33961/33961 [01:14<00:00, 458.76it/s] \n"
     ]
    },
    {
     "name": "stdout",
     "output_type": "stream",
     "text": [
      "Epoch 32, Loss: 18275.8354\n"
     ]
    },
    {
     "name": "stderr",
     "output_type": "stream",
     "text": [
      "100%|██████████| 33961/33961 [01:12<00:00, 470.84it/s] \n"
     ]
    },
    {
     "name": "stdout",
     "output_type": "stream",
     "text": [
      "Epoch 33, Loss: 17984.7093\n"
     ]
    },
    {
     "name": "stderr",
     "output_type": "stream",
     "text": [
      "100%|██████████| 33961/33961 [02:10<00:00, 259.65it/s] \n"
     ]
    },
    {
     "name": "stdout",
     "output_type": "stream",
     "text": [
      "Epoch 34, Loss: 17711.7950\n"
     ]
    },
    {
     "name": "stderr",
     "output_type": "stream",
     "text": [
      "100%|██████████| 33961/33961 [02:18<00:00, 245.86it/s] \n"
     ]
    },
    {
     "name": "stdout",
     "output_type": "stream",
     "text": [
      "Epoch 35, Loss: 17455.3476\n"
     ]
    },
    {
     "name": "stderr",
     "output_type": "stream",
     "text": [
      "100%|██████████| 33961/33961 [02:51<00:00, 197.92it/s] \n"
     ]
    },
    {
     "name": "stdout",
     "output_type": "stream",
     "text": [
      "Epoch 36, Loss: 17213.8487\n"
     ]
    },
    {
     "name": "stderr",
     "output_type": "stream",
     "text": [
      "100%|██████████| 33961/33961 [03:02<00:00, 185.70it/s] \n"
     ]
    },
    {
     "name": "stdout",
     "output_type": "stream",
     "text": [
      "Epoch 37, Loss: 16985.9694\n"
     ]
    },
    {
     "name": "stderr",
     "output_type": "stream",
     "text": [
      "100%|██████████| 33961/33961 [03:00<00:00, 187.67it/s] \n"
     ]
    },
    {
     "name": "stdout",
     "output_type": "stream",
     "text": [
      "Epoch 38, Loss: 16770.5416\n"
     ]
    },
    {
     "name": "stderr",
     "output_type": "stream",
     "text": [
      "100%|██████████| 33961/33961 [02:57<00:00, 190.82it/s] \n"
     ]
    },
    {
     "name": "stdout",
     "output_type": "stream",
     "text": [
      "Epoch 39, Loss: 16566.5330\n"
     ]
    },
    {
     "name": "stderr",
     "output_type": "stream",
     "text": [
      "100%|██████████| 33961/33961 [02:58<00:00, 190.69it/s] \n"
     ]
    },
    {
     "name": "stdout",
     "output_type": "stream",
     "text": [
      "Epoch 40, Loss: 16373.0281\n"
     ]
    },
    {
     "name": "stderr",
     "output_type": "stream",
     "text": [
      "100%|██████████| 33961/33961 [02:59<00:00, 188.74it/s] \n"
     ]
    },
    {
     "name": "stdout",
     "output_type": "stream",
     "text": [
      "Epoch 41, Loss: 16189.2112\n"
     ]
    },
    {
     "name": "stderr",
     "output_type": "stream",
     "text": [
      "100%|██████████| 33961/33961 [02:58<00:00, 190.26it/s] \n"
     ]
    },
    {
     "name": "stdout",
     "output_type": "stream",
     "text": [
      "Epoch 42, Loss: 16014.3529\n"
     ]
    },
    {
     "name": "stderr",
     "output_type": "stream",
     "text": [
      "100%|██████████| 33961/33961 [02:55<00:00, 193.30it/s] \n"
     ]
    },
    {
     "name": "stdout",
     "output_type": "stream",
     "text": [
      "Epoch 43, Loss: 15847.7987\n"
     ]
    },
    {
     "name": "stderr",
     "output_type": "stream",
     "text": [
      "100%|██████████| 33961/33961 [03:00<00:00, 188.47it/s] \n"
     ]
    },
    {
     "name": "stdout",
     "output_type": "stream",
     "text": [
      "Epoch 44, Loss: 15688.9591\n"
     ]
    },
    {
     "name": "stderr",
     "output_type": "stream",
     "text": [
      "100%|██████████| 33961/33961 [03:00<00:00, 187.65it/s] \n"
     ]
    },
    {
     "name": "stdout",
     "output_type": "stream",
     "text": [
      "Epoch 45, Loss: 15537.3017\n"
     ]
    },
    {
     "name": "stderr",
     "output_type": "stream",
     "text": [
      "100%|██████████| 33961/33961 [02:08<00:00, 265.07it/s] \n"
     ]
    },
    {
     "name": "stdout",
     "output_type": "stream",
     "text": [
      "Epoch 46, Loss: 15392.3442\n"
     ]
    },
    {
     "name": "stderr",
     "output_type": "stream",
     "text": [
      "100%|██████████| 33961/33961 [03:05<00:00, 183.49it/s] \n"
     ]
    },
    {
     "name": "stdout",
     "output_type": "stream",
     "text": [
      "Epoch 47, Loss: 15253.6481\n"
     ]
    },
    {
     "name": "stderr",
     "output_type": "stream",
     "text": [
      "100%|██████████| 33961/33961 [02:37<00:00, 215.12it/s] \n"
     ]
    },
    {
     "name": "stdout",
     "output_type": "stream",
     "text": [
      "Epoch 48, Loss: 15120.8141\n"
     ]
    },
    {
     "name": "stderr",
     "output_type": "stream",
     "text": [
      "100%|██████████| 33961/33961 [02:56<00:00, 192.50it/s] \n"
     ]
    },
    {
     "name": "stdout",
     "output_type": "stream",
     "text": [
      "Epoch 49, Loss: 14993.4776\n"
     ]
    },
    {
     "name": "stderr",
     "output_type": "stream",
     "text": [
      "100%|██████████| 33961/33961 [02:36<00:00, 217.66it/s] \n"
     ]
    },
    {
     "name": "stdout",
     "output_type": "stream",
     "text": [
      "Epoch 50, Loss: 14871.3045\n"
     ]
    },
    {
     "name": "stderr",
     "output_type": "stream",
     "text": [
      "100%|██████████| 33961/33961 [02:56<00:00, 192.36it/s] \n"
     ]
    },
    {
     "name": "stdout",
     "output_type": "stream",
     "text": [
      "Epoch 51, Loss: 14753.9882\n"
     ]
    },
    {
     "name": "stderr",
     "output_type": "stream",
     "text": [
      "100%|██████████| 33961/33961 [03:19<00:00, 170.50it/s] \n"
     ]
    },
    {
     "name": "stdout",
     "output_type": "stream",
     "text": [
      "Epoch 52, Loss: 14641.2469\n"
     ]
    },
    {
     "name": "stderr",
     "output_type": "stream",
     "text": [
      "100%|██████████| 33961/33961 [03:08<00:00, 180.20it/s] \n"
     ]
    },
    {
     "name": "stdout",
     "output_type": "stream",
     "text": [
      "Epoch 53, Loss: 14532.8206\n"
     ]
    },
    {
     "name": "stderr",
     "output_type": "stream",
     "text": [
      "100%|██████████| 33961/33961 [03:09<00:00, 179.68it/s] \n"
     ]
    },
    {
     "name": "stdout",
     "output_type": "stream",
     "text": [
      "Epoch 54, Loss: 14428.4696\n"
     ]
    },
    {
     "name": "stderr",
     "output_type": "stream",
     "text": [
      "100%|██████████| 33961/33961 [03:06<00:00, 181.70it/s] \n"
     ]
    },
    {
     "name": "stdout",
     "output_type": "stream",
     "text": [
      "Epoch 55, Loss: 14327.9715\n"
     ]
    },
    {
     "name": "stderr",
     "output_type": "stream",
     "text": [
      "100%|██████████| 33961/33961 [02:10<00:00, 260.16it/s] \n"
     ]
    },
    {
     "name": "stdout",
     "output_type": "stream",
     "text": [
      "Epoch 56, Loss: 14231.1208\n"
     ]
    },
    {
     "name": "stderr",
     "output_type": "stream",
     "text": [
      "100%|██████████| 33961/33961 [01:06<00:00, 510.09it/s] \n"
     ]
    },
    {
     "name": "stdout",
     "output_type": "stream",
     "text": [
      "Epoch 57, Loss: 14137.7261\n"
     ]
    },
    {
     "name": "stderr",
     "output_type": "stream",
     "text": [
      "100%|██████████| 33961/33961 [01:05<00:00, 521.79it/s] \n"
     ]
    },
    {
     "name": "stdout",
     "output_type": "stream",
     "text": [
      "Epoch 58, Loss: 14047.6098\n"
     ]
    },
    {
     "name": "stderr",
     "output_type": "stream",
     "text": [
      "100%|██████████| 33961/33961 [01:04<00:00, 525.71it/s] \n"
     ]
    },
    {
     "name": "stdout",
     "output_type": "stream",
     "text": [
      "Epoch 59, Loss: 13960.6062\n"
     ]
    },
    {
     "name": "stderr",
     "output_type": "stream",
     "text": [
      "100%|██████████| 33961/33961 [01:03<00:00, 533.67it/s] \n"
     ]
    },
    {
     "name": "stdout",
     "output_type": "stream",
     "text": [
      "Epoch 60, Loss: 13876.5608\n"
     ]
    },
    {
     "name": "stderr",
     "output_type": "stream",
     "text": [
      "100%|██████████| 33961/33961 [01:03<00:00, 536.77it/s] \n"
     ]
    },
    {
     "name": "stdout",
     "output_type": "stream",
     "text": [
      "Epoch 61, Loss: 13795.3293\n"
     ]
    },
    {
     "name": "stderr",
     "output_type": "stream",
     "text": [
      "100%|██████████| 33961/33961 [01:02<00:00, 541.19it/s] \n"
     ]
    },
    {
     "name": "stdout",
     "output_type": "stream",
     "text": [
      "Epoch 62, Loss: 13716.7767\n"
     ]
    },
    {
     "name": "stderr",
     "output_type": "stream",
     "text": [
      "100%|██████████| 33961/33961 [01:04<00:00, 526.04it/s] \n"
     ]
    },
    {
     "name": "stdout",
     "output_type": "stream",
     "text": [
      "Epoch 63, Loss: 13640.7764\n"
     ]
    },
    {
     "name": "stderr",
     "output_type": "stream",
     "text": [
      "100%|██████████| 33961/33961 [01:03<00:00, 538.70it/s] \n"
     ]
    },
    {
     "name": "stdout",
     "output_type": "stream",
     "text": [
      "Epoch 64, Loss: 13567.2098\n"
     ]
    },
    {
     "name": "stderr",
     "output_type": "stream",
     "text": [
      "100%|██████████| 33961/33961 [01:00<00:00, 563.82it/s] \n"
     ]
    },
    {
     "name": "stdout",
     "output_type": "stream",
     "text": [
      "Epoch 65, Loss: 13495.9655\n"
     ]
    },
    {
     "name": "stderr",
     "output_type": "stream",
     "text": [
      "100%|██████████| 33961/33961 [00:59<00:00, 570.26it/s] \n"
     ]
    },
    {
     "name": "stdout",
     "output_type": "stream",
     "text": [
      "Epoch 66, Loss: 13426.9388\n"
     ]
    },
    {
     "name": "stderr",
     "output_type": "stream",
     "text": [
      "100%|██████████| 33961/33961 [00:59<00:00, 566.66it/s] \n"
     ]
    },
    {
     "name": "stdout",
     "output_type": "stream",
     "text": [
      "Epoch 67, Loss: 13360.0310\n"
     ]
    },
    {
     "name": "stderr",
     "output_type": "stream",
     "text": [
      "100%|██████████| 33961/33961 [01:02<00:00, 545.64it/s] \n"
     ]
    },
    {
     "name": "stdout",
     "output_type": "stream",
     "text": [
      "Epoch 68, Loss: 13295.1494\n"
     ]
    },
    {
     "name": "stderr",
     "output_type": "stream",
     "text": [
      "100%|██████████| 33961/33961 [02:38<00:00, 214.17it/s] \n"
     ]
    },
    {
     "name": "stdout",
     "output_type": "stream",
     "text": [
      "Epoch 69, Loss: 13232.2063\n"
     ]
    },
    {
     "name": "stderr",
     "output_type": "stream",
     "text": [
      "100%|██████████| 33961/33961 [01:26<00:00, 392.04it/s] \n"
     ]
    },
    {
     "name": "stdout",
     "output_type": "stream",
     "text": [
      "Epoch 70, Loss: 13171.1190\n"
     ]
    },
    {
     "name": "stderr",
     "output_type": "stream",
     "text": [
      "100%|██████████| 33961/33961 [00:58<00:00, 577.87it/s] \n"
     ]
    },
    {
     "name": "stdout",
     "output_type": "stream",
     "text": [
      "Epoch 71, Loss: 13111.8097\n"
     ]
    },
    {
     "name": "stderr",
     "output_type": "stream",
     "text": [
      "100%|██████████| 33961/33961 [00:59<00:00, 566.49it/s] \n"
     ]
    },
    {
     "name": "stdout",
     "output_type": "stream",
     "text": [
      "Epoch 72, Loss: 13054.2043\n"
     ]
    },
    {
     "name": "stderr",
     "output_type": "stream",
     "text": [
      "100%|██████████| 33961/33961 [01:01<00:00, 555.67it/s] \n"
     ]
    },
    {
     "name": "stdout",
     "output_type": "stream",
     "text": [
      "Epoch 73, Loss: 12998.2330\n"
     ]
    },
    {
     "name": "stderr",
     "output_type": "stream",
     "text": [
      "100%|██████████| 33961/33961 [01:00<00:00, 559.77it/s] \n"
     ]
    },
    {
     "name": "stdout",
     "output_type": "stream",
     "text": [
      "Epoch 74, Loss: 12943.8296\n"
     ]
    },
    {
     "name": "stderr",
     "output_type": "stream",
     "text": [
      " 10%|▉         | 3251/33961 [00:38<03:10, 161.56it/s]"
     ]
    }
   ],
   "source": [
    "vectors = train_glove(matrix, vocab_size=len(vocab), embedding_dim=100, epochs=100)"
   ]
  },
  {
   "cell_type": "code",
   "execution_count": null,
   "id": "c6d6fd1a",
   "metadata": {},
   "outputs": [],
   "source": []
  }
 ],
 "metadata": {
  "kernelspec": {
   "display_name": "Python 3",
   "language": "python",
   "name": "python3"
  },
  "language_info": {
   "codemirror_mode": {
    "name": "ipython",
    "version": 3
   },
   "file_extension": ".py",
   "mimetype": "text/x-python",
   "name": "python",
   "nbconvert_exporter": "python",
   "pygments_lexer": "ipython3",
   "version": "3.10.1"
  }
 },
 "nbformat": 4,
 "nbformat_minor": 5
}
