{
 "cells": [
  {
   "cell_type": "code",
   "execution_count": 1,
   "id": "35c22d34",
   "metadata": {},
   "outputs": [],
   "source": [
    "import os\n",
    "import json\n",
    "import py_vncorenlp\n",
    "from tqdm.auto import tqdm"
   ]
  },
  {
   "cell_type": "code",
   "execution_count": 2,
   "id": "f13245b6",
   "metadata": {},
   "outputs": [],
   "source": [
    "NOTEBOOK_DIR = os.getcwd()\n",
    "CAPSTONE_DIR = os.path.abspath(os.path.join(os.getcwd(), \"..\"))\n",
    "DATASET_DIR = os.path.join(CAPSTONE_DIR, \"dataset\")\n",
    "MODEL_DIR = \"D:/VnCoreNLP\" # This is belong to your file location"
   ]
  },
  {
   "cell_type": "code",
   "execution_count": 3,
   "id": "380a02ad",
   "metadata": {},
   "outputs": [],
   "source": [
    "model = py_vncorenlp.VnCoreNLP(save_dir= MODEL_DIR)"
   ]
  },
  {
   "cell_type": "code",
   "execution_count": 5,
   "id": "b319d08f",
   "metadata": {},
   "outputs": [
    {
     "data": {
      "application/vnd.jupyter.widget-view+json": {
       "model_id": "641d020787b74562b00cca6f36388526",
       "version_major": 2,
       "version_minor": 0
      },
      "text/plain": [
       "Processing training data:   0%|          | 0/3196 [00:00<?, ?it/s]"
      ]
     },
     "metadata": {},
     "output_type": "display_data"
    }
   ],
   "source": [
    "train_data_path = os.path.join(DATASET_DIR, \"train_question_answer.json\")\n",
    "corpus_data_path = os.path.join(DATASET_DIR, \"processed_legal_corpus.json\")\n",
    "output_path = os.path.join(DATASET_DIR, \"processed_train_data.json\")\n",
    "\n",
    "with open(train_data_path, \"r\", encoding=\"utf-8\") as json_file:\n",
    "    train_data = json.load(json_file)\n",
    "train_data_items = train_data[\"items\"]\n",
    "\n",
    "with open(corpus_data_path, \"r\", encoding=\"utf-8\") as f:\n",
    "    corpus_data = json.load(f)\n",
    "\n",
    "total_items = len(train_data_items)\n",
    "\n",
    "with open(output_path, \"w\", encoding=\"utf-8\") as out_file:\n",
    "    out_file.write(\"[\\n\")\n",
    "\n",
    "    for i, item in enumerate(tqdm(train_data_items, total=total_items, desc=\"Processing training data\")):\n",
    "        relevant_articles = item[\"relevant_articles\"]\n",
    "        for article in relevant_articles:\n",
    "            pair = []\n",
    "            question = item[\"question\"]\n",
    "            question_tokens = model.word_segment(question)\n",
    "            segmented_question = \" \".join(question_tokens)\n",
    "            pair.append(segmented_question)\n",
    "\n",
    "            law_id = article[\"law_id\"]\n",
    "            article_id = article[\"article_id\"]\n",
    "            for law in corpus_data:\n",
    "                if law[\"law_id\"] == law_id:\n",
    "                    for doc in law[\"articles\"]:\n",
    "                        if doc[\"article_id\"] == article_id:\n",
    "                            pair.append(doc[\"segment_only\"])\n",
    "                            break\n",
    "        json.dump(pair, out_file, ensure_ascii=False, indent=4)\n",
    "        if i < total_items - 1:\n",
    "            out_file.write(\",\\n\")\n",
    "    out_file.write(\"\\n]\")\n",
    "\n",
    "\n"
   ]
  }
 ],
 "metadata": {
  "kernelspec": {
   "display_name": "QandA",
   "language": "python",
   "name": "python3"
  },
  "language_info": {
   "codemirror_mode": {
    "name": "ipython",
    "version": 3
   },
   "file_extension": ".py",
   "mimetype": "text/x-python",
   "name": "python",
   "nbconvert_exporter": "python",
   "pygments_lexer": "ipython3",
   "version": "3.10.16"
  }
 },
 "nbformat": 4,
 "nbformat_minor": 5
}
