{
 "cells": [
  {
   "cell_type": "markdown",
   "id": "d8a5edd1",
   "metadata": {},
   "source": [
    "# **Combination between Glove and TF_IDF**"
   ]
  },
  {
   "cell_type": "code",
   "execution_count": 1,
   "id": "5713461a",
   "metadata": {},
   "outputs": [],
   "source": [
    "import json\n",
    "import os\n",
    "import py_vncorenlp\n",
    "import numpy as np\n",
    "import re\n",
    "import joblib\n",
    "import string\n",
    "\n",
    "from qdrant_client import QdrantClient\n",
    "from qdrant_client.models import VectorParams, Distance\n",
    "from sklearn.preprocessing import normalize"
   ]
  },
  {
   "cell_type": "code",
   "execution_count": 2,
   "id": "c4528969",
   "metadata": {},
   "outputs": [],
   "source": [
    "current_dir = os.getcwd()\n",
    "PROJECT_DIR = os.path.dirname(current_dir)\n",
    "data_path = os.path.join(PROJECT_DIR, \"dataset\", \"processed_legal_corpus.json\")\n",
    "MODEL_DIR = \"D:/VnCoreNLP\" # This is belong to your file location \n",
    "DATASET_DIR = os.path.join(PROJECT_DIR, \"dataset\")\n",
    "VECTORIZER_DIR = os.path.join(PROJECT_DIR, \"vectorizer\")"
   ]
  },
  {
   "cell_type": "code",
   "execution_count": 3,
   "id": "271461df",
   "metadata": {},
   "outputs": [
    {
     "name": "stdout",
     "output_type": "stream",
     "text": [
      "61425\n",
      "61425\n"
     ]
    }
   ],
   "source": [
    "with open(data_path, \"r\", encoding=\"utf-8\") as json_file:\n",
    "    data = json.load(json_file)\n",
    "\n",
    "# Danh sách văn bản\n",
    "content = []\n",
    "index = [] # \"01/2009/tt-bnn 1\" (law_id + article_id)\n",
    "\n",
    "for document in data:\n",
    "    law_id = document[\"law_id\"]\n",
    "    for article in document[\"articles\"]:\n",
    "        article_id = article[\"article_id\"]\n",
    "        text = article[\"processed_in4\"]\n",
    "        clean_tokens = [token for token in text.split() if token not in string.punctuation]\n",
    "        clean_text = ' '.join(clean_tokens)\n",
    "        content.append(clean_text)\n",
    "        index.append(law_id + \" \" + article_id)\n",
    "print(len(content))\n",
    "print(len(index))"
   ]
  },
  {
   "cell_type": "code",
   "execution_count": 4,
   "id": "d23b79e1",
   "metadata": {},
   "outputs": [],
   "source": [
    "Glove_path = os.path.join(VECTORIZER_DIR, \"Glove_word_embed.json\")\n",
    "with open(Glove_path, 'r', encoding='utf-8') as f:\n",
    "    Glove_word_embed = json.load(f)\n",
    "\n",
    "# Load tf_idf for vectorizer\n",
    "tfidf_vectorizer = joblib.load(os.path.join(VECTORIZER_DIR, 'tfidf_vectorizer.pkl'))"
   ]
  },
  {
   "cell_type": "code",
   "execution_count": 9,
   "id": "9f804b09",
   "metadata": {},
   "outputs": [],
   "source": [
    "def get_weighted_sentence_vector(sentence, Glove_word_embed: dict, tfidf_vectorizer):\n",
    "    tfidf_scores = tfidf_vectorizer.transform([sentence])\n",
    "    feature_names = tfidf_vectorizer.get_feature_names_out()\n",
    "    tfidf_dict = {\n",
    "        feature_names[col]: tfidf_scores[0, col]\n",
    "        for col in tfidf_scores.nonzero()[1]\n",
    "    }\n",
    "\n",
    "    words = sentence.split()\n",
    "    word_vecs = []\n",
    "    weights = []\n",
    "    for word in words:\n",
    "        if word in list(Glove_word_embed.keys()) and word in tfidf_dict:\n",
    "            vec = np.array(Glove_word_embed[word], dtype=np.float64)\n",
    "            weight = tfidf_dict[word]\n",
    "            word_vecs.append(vec * weight)\n",
    "            weights.append(weight)\n",
    "\n",
    "    if word_vecs:\n",
    "        return np.sum(word_vecs, axis=0) / np.sum(weights)\n",
    "    else:\n",
    "        return np.zeros(len(Glove_word_embed[list(Glove_word_embed.keys())[0]]))"
   ]
  },
  {
   "cell_type": "code",
   "execution_count": 10,
   "id": "ad8ab60a",
   "metadata": {},
   "outputs": [
    {
     "name": "stdout",
     "output_type": "stream",
     "text": [
      "(61425, 100)\n"
     ]
    }
   ],
   "source": [
    "sentence_vectors = np.array([\n",
    "    get_weighted_sentence_vector(sentence, Glove_word_embed, tfidf_vectorizer)\n",
    "    for sentence in content\n",
    "])\n",
    "\n",
    "normalized_vectors = normalize(sentence_vectors)\n",
    "print(normalized_vectors.shape)"
   ]
  },
  {
   "cell_type": "code",
   "execution_count": 11,
   "id": "37d3614f",
   "metadata": {},
   "outputs": [
    {
     "name": "stderr",
     "output_type": "stream",
     "text": [
      "C:\\Users\\Admin\\AppData\\Local\\Temp\\ipykernel_34152\\576374423.py:5: DeprecationWarning: `recreate_collection` method is deprecated and will be removed in the future. Use `collection_exists` to check collection existence and `create_collection` instead.\n",
      "  client.recreate_collection(\n"
     ]
    },
    {
     "name": "stdout",
     "output_type": "stream",
     "text": [
      "61425\n",
      "61425\n"
     ]
    }
   ],
   "source": [
    "# 2. Connect to Qdrant\n",
    "client = QdrantClient(host=\"localhost\", port=6333, timeout=60.0)\n",
    "\n",
    "# 3. Tạo collection\n",
    "client.recreate_collection(\n",
    "    collection_name=\"Glove_Law_document_retrivial\",\n",
    "    vectors_config=VectorParams(size=normalized_vectors.shape[1], distance=Distance.COSINE) # Using Cosinesimilarity for searching vector\n",
    ")\n",
    "\n",
    "# 4. Thêm dữ liệu\n",
    "payloads = [{\"law_id\": doc.split(\" \")[0], \"article_id\": doc.split(\" \")[1]} for doc in index]\n",
    "points = [\n",
    "    {\n",
    "        \"id\": i,\n",
    "        \"vector\": normalized_vectors[i],\n",
    "        \"payload\": payloads[i]\n",
    "    }\n",
    "    for i in range(len(content))\n",
    "]\n",
    "\n",
    "print(len(points))\n",
    "print(len(payloads))"
   ]
  },
  {
   "cell_type": "code",
   "execution_count": 13,
   "id": "2d717528",
   "metadata": {},
   "outputs": [],
   "source": [
    "# Upload the data to Qdrant collection\n",
    "for i in range(0, len(points), 100):\n",
    "    client.upsert(collection_name=\"Glove_Law_document_retrivial\", points=points[i:i+100])"
   ]
  },
  {
   "cell_type": "markdown",
   "id": "b1060f56",
   "metadata": {},
   "source": [
    "# **USING**"
   ]
  },
  {
   "cell_type": "code",
   "execution_count": 14,
   "id": "23be4df6",
   "metadata": {},
   "outputs": [],
   "source": [
    "## Initial the segmentation model and the pattern to remove the stop word\n",
    "vncorenlp_model = py_vncorenlp.VnCoreNLP(save_dir= MODEL_DIR)\n",
    "with open(os.path.join(DATASET_DIR, \"stopwords_processed.txt\"), \"r\", encoding=\"utf-8\") as f:\n",
    "    stopwords_list = list(map(str.strip, f))\n",
    "\n",
    "pattern = r\"\\b(\" + \"|\".join(map(re.escape, stopwords_list)) + r\")\\b\""
   ]
  },
  {
   "cell_type": "code",
   "execution_count": 15,
   "id": "58132467",
   "metadata": {},
   "outputs": [],
   "source": [
    "def clean_query(query, segmentation_model):\n",
    "    query_list = segmentation_model.word_segment(query) # segment\n",
    "    query = \" \".join(query_list) \n",
    "    query = re.sub(pattern, \"\", query) # remove stop word\n",
    "    query = re.sub(r\"\\s+\", \" \", query).strip() # Remove the redundancy\n",
    "    query_word = [token for token in query.split() if token not in string.punctuation]\n",
    "    cleaned_query = ' '.join(query_word)\n",
    "\n",
    "    return cleaned_query"
   ]
  },
  {
   "cell_type": "code",
   "execution_count": 17,
   "id": "5b7cc1c3",
   "metadata": {},
   "outputs": [
    {
     "name": "stdout",
     "output_type": "stream",
     "text": [
      "Score: 0.8234 | law_id: 71/2015/nđ-cp | article_id: 5 \n",
      "Score: 0.8090 | law_id: 34/2014/nđ-cp | article_id: 9 \n",
      "Score: 0.7946 | law_id: 09/2016/tt-bqp | article_id: 5 \n",
      "Score: 0.7752 | law_id: 43/2015/tt-bqp | article_id: 5 \n",
      "Score: 0.7550 | law_id: 47/2015/tt-bqp | article_id: 7 \n",
      "Score: 0.7419 | law_id: 96/2020/nđ-cp | article_id: 10 \n",
      "Score: 0.7145 | law_id: 43/2015/tt-bqp | article_id: 12 \n",
      "Score: 0.6965 | law_id: 71/2015/nđ-cp | article_id: 17 \n",
      "Score: 0.6933 | law_id: 32/2014/tt-bgtvt | article_id: 12 \n",
      "Score: 0.6807 | law_id: 71/2015/nđ-cp | article_id: 3 \n"
     ]
    },
    {
     "name": "stderr",
     "output_type": "stream",
     "text": [
      "C:\\Users\\Admin\\AppData\\Local\\Temp\\ipykernel_34152\\2437991530.py:8: DeprecationWarning: `search` method is deprecated and will be removed in the future. Use `query_points` instead.\n",
      "  hits = client.search(\n"
     ]
    }
   ],
   "source": [
    "# 5. Nhập câu truy vấn và biến thành vector\n",
    "query = \"Đập phá biển báo “khu vực biên giới” bị phạt thế nào?\"\n",
    "cleaned_query = clean_query(query, vncorenlp_model)\n",
    "query_vec = get_weighted_sentence_vector(cleaned_query, Glove_word_embed, tfidf_vectorizer)\n",
    "query_vec = normalize(query_vec.reshape(1, -1))[0]\n",
    "\n",
    "# 6. Truy vấn Qdrant\n",
    "hits = client.search(\n",
    "    collection_name=\"Glove_Law_document_retrivial\",\n",
    "    query_vector=query_vec,\n",
    "    limit=10\n",
    ")\n",
    "\n",
    "# 7. In kết quả\n",
    "for hit in hits:\n",
    "    print(f\"Score: {hit.score:.4f} | law_id: {hit.payload['law_id']} | article_id: {hit.payload['article_id']} \")"
   ]
  }
 ],
 "metadata": {
  "kernelspec": {
   "display_name": "QandA",
   "language": "python",
   "name": "python3"
  },
  "language_info": {
   "codemirror_mode": {
    "name": "ipython",
    "version": 3
   },
   "file_extension": ".py",
   "mimetype": "text/x-python",
   "name": "python",
   "nbconvert_exporter": "python",
   "pygments_lexer": "ipython3",
   "version": "3.10.16"
  }
 },
 "nbformat": 4,
 "nbformat_minor": 5
}
