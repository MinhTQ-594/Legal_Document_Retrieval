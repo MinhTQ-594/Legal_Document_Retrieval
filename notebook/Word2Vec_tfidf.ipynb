{
 "cells": [
  {
   "cell_type": "markdown",
   "id": "4844634d",
   "metadata": {},
   "source": [
    "# **Combination between Word2Vec and TF_IDF**"
   ]
  },
  {
   "cell_type": "code",
   "execution_count": null,
   "id": "c160cf03",
   "metadata": {},
   "outputs": [],
   "source": [
    "import json\n",
    "import os\n",
    "import py_vncorenlp\n",
    "import numpy as np\n",
    "import re\n",
    "import string\n",
    "import joblib\n",
    "from gensim.models import Word2Vec\n",
    "\n",
    "from qdrant_client import QdrantClient\n",
    "from qdrant_client.models import VectorParams, Distance\n",
    "from sklearn.preprocessing import normalize"
   ]
  },
  {
   "cell_type": "code",
   "execution_count": null,
   "id": "43d5537c",
   "metadata": {},
   "outputs": [],
   "source": [
    "current_dir = os.getcwd()\n",
    "PROJECT_DIR = os.path.dirname(current_dir)\n",
    "data_path = os.path.join(PROJECT_DIR, \"dataset\", \"processed_legal_corpus.json\")\n",
    "MODEL_DIR = \"D:/VnCoreNLP\" # This is belong to your file location \n",
    "DATASET_DIR = os.path.join(PROJECT_DIR, \"dataset\")\n",
    "VECTORIZER_DIR = os.path.join(PROJECT_DIR, \"vectorizer\")"
   ]
  },
  {
   "cell_type": "code",
   "execution_count": null,
   "id": "fa089ae9",
   "metadata": {},
   "outputs": [],
   "source": [
    "with open(data_path, \"r\", encoding=\"utf-8\") as json_file:\n",
    "    data = json.load(json_file)\n",
    "\n",
    "# Danh sách văn bản\n",
    "content = []\n",
    "index = [] # \"01/2009/tt-bnn 1\" (law_id + article_id)\n",
    "\n",
    "for document in data:\n",
    "    law_id = document[\"law_id\"]\n",
    "    for article in document[\"articles\"]:\n",
    "        article_id = article[\"article_id\"]\n",
    "        text = article[\"processed_in4\"]\n",
    "        clean_tokens = [token for token in text.split() if token not in string.punctuation]\n",
    "        clean_text = ' '.join(clean_tokens)\n",
    "        content.append(clean_text)\n",
    "        index.append(law_id + \" \" + article_id)\n",
    "print(len(content))\n",
    "print(len(index))\n"
   ]
  },
  {
   "cell_type": "code",
   "execution_count": null,
   "id": "88207262",
   "metadata": {},
   "outputs": [],
   "source": [
    "tokenized_sentences = [sentence.split() for sentence in content]"
   ]
  },
  {
   "cell_type": "code",
   "execution_count": null,
   "id": "929dcf64",
   "metadata": {},
   "outputs": [],
   "source": [
    "# Training\n",
    "w2v_model = Word2Vec(\n",
    "    sentences=tokenized_sentences,\n",
    "    vector_size=10000,\n",
    "    window=5,\n",
    "    min_count=1,\n",
    "    sg=0,  # skip-gram sg=1, nếu muốn CBOW thì dùng sg=0\n",
    "    workers=5,\n",
    "    epochs=10\n",
    ")\n",
    "\n",
    "w2v_model.save(os.path.join(VECTORIZER_DIR, \"w2v.model\"))"
   ]
  },
  {
   "cell_type": "code",
   "execution_count": null,
   "id": "219bbec0",
   "metadata": {},
   "outputs": [],
   "source": [
    "# Load for after use\n",
    "w2v_model = Word2Vec.load(os.path.join(VECTORIZER_DIR, \"w2v.model\"))\n",
    "# Load tf_idf for vectorizer\n",
    "tfidf_vectorizer = joblib.load(os.path.join(VECTORIZER_DIR, 'tfidf_vectorizer.pkl'))"
   ]
  },
  {
   "cell_type": "code",
   "execution_count": null,
   "id": "511664a9",
   "metadata": {},
   "outputs": [],
   "source": [
    "def get_weighted_sentence_vector(sentence, w2v_model, tfidf_vectorizer):\n",
    "    tfidf_scores = tfidf_vectorizer.transform([sentence])\n",
    "    feature_names = tfidf_vectorizer.get_feature_names_out()\n",
    "    tfidf_dict = {\n",
    "        feature_names[col]: tfidf_scores[0, col]\n",
    "        for col in tfidf_scores.nonzero()[1]\n",
    "    }\n",
    "\n",
    "    words = sentence.split()\n",
    "    word_vecs = []\n",
    "    weights = []\n",
    "    for word in words:\n",
    "        if word in w2v_model.wv and word in tfidf_dict:\n",
    "            vec = w2v_model.wv[word]\n",
    "            weight = tfidf_dict[word]\n",
    "            word_vecs.append(vec * weight)\n",
    "            weights.append(weight)\n",
    "\n",
    "    if word_vecs:\n",
    "        return np.sum(word_vecs, axis=0) / np.sum(weights)\n",
    "    else:\n",
    "        return np.zeros(w2v_model.vector_size)"
   ]
  },
  {
   "cell_type": "code",
   "execution_count": null,
   "id": "a426371f",
   "metadata": {},
   "outputs": [],
   "source": [
    "# content: list of sentences\n",
    "# tokenized_sentences: list of list of words (tokens) in each sentence\n",
    "# index: payload for database"
   ]
  },
  {
   "cell_type": "code",
   "execution_count": null,
   "id": "d2be0d42",
   "metadata": {},
   "outputs": [],
   "source": [
    "# 1. Normalize the vectors\n",
    "sentence_vectors = np.array([\n",
    "    get_weighted_sentence_vector(sentence, w2v_model, tfidf_vectorizer)\n",
    "    for sentence in content\n",
    "])\n",
    "\n",
    "normalized_vectors = normalize(sentence_vectors)\n",
    "print(normalized_vectors.shape)\n",
    "\n",
    "# 2. Connect to Qdrant\n",
    "client = QdrantClient(host=\"localhost\", port=6333)\n",
    "\n",
    "# 3. Tạo collection\n",
    "client.recreate_collection(\n",
    "    collection_name=\"Word2Vec_Law_document_retrivial\",\n",
    "    vectors_config=VectorParams(size=normalized_vectors.shape[1], distance=Distance.COSINE) # Using Cosinesimilarity for searching vector\n",
    ")\n",
    "\n",
    "# 4. Thêm dữ liệu\n",
    "payloads = [{\"law_id\": doc.split(\" \")[0], \"article_id\": doc.split(\" \")[1]} for doc in index]\n",
    "points = [\n",
    "    {\n",
    "        \"id\": i,\n",
    "        \"vector\": normalized_vectors[i],\n",
    "        \"payload\": payloads[i]\n",
    "    }\n",
    "    for i in range(len(content))\n",
    "]\n",
    "\n",
    "print(len(points))\n",
    "print(len(payloads))"
   ]
  },
  {
   "cell_type": "code",
   "execution_count": null,
   "id": "c8668ab6",
   "metadata": {},
   "outputs": [],
   "source": [
    "# Upload the data to Qdrant collection\n",
    "for i in range(0, len(points), 100):\n",
    "    client.upsert(collection_name=\"Word2Vec_Law_document_retrivial\", points=points[i:i+100])"
   ]
  },
  {
   "cell_type": "markdown",
   "id": "7ee64daf",
   "metadata": {},
   "source": [
    "# **USING**"
   ]
  },
  {
   "cell_type": "code",
   "execution_count": null,
   "id": "eac0faff",
   "metadata": {},
   "outputs": [],
   "source": [
    "## Initial the segmentation model and the pattern to remove the stop word\n",
    "vncorenlp_model = py_vncorenlp.VnCoreNLP(save_dir= MODEL_DIR)\n",
    "with open(os.path.join(DATASET_DIR, \"stopwords_processed.txt\"), \"r\", encoding=\"utf-8\") as f:\n",
    "    stopwords_list = list(map(str.strip, f))\n",
    "\n",
    "pattern = r\"\\b(\" + \"|\".join(map(re.escape, stopwords_list)) + r\")\\b\""
   ]
  },
  {
   "cell_type": "code",
   "execution_count": null,
   "id": "a0628b55",
   "metadata": {},
   "outputs": [],
   "source": [
    "def processing_query(query, segmentation_model):\n",
    "    query_list = vncorenlp_model.word_segment(query) # segment\n",
    "    query = \" \".join(query_list) \n",
    "    query = re.sub(pattern, \"\", query) # remove stop word\n",
    "    query = re.sub(r\"\\s+\", \" \", query).strip() # Remove the redundancy\n",
    "    query_word = [token for token in query.split() if token not in string.punctuation]\n",
    "    clean_query = ' '.join(query_word)\n",
    "\n",
    "    return clean_query\n"
   ]
  },
  {
   "cell_type": "code",
   "execution_count": null,
   "id": "429be93a",
   "metadata": {},
   "outputs": [],
   "source": [
    "# 5. Nhập câu truy vấn và biến thành vector\n",
    "query = \"Đập phá biển báo “khu vực biên giới” bị phạt thế nào?\"\n",
    "clean_query = processing_query(query, vncorenlp_model)\n",
    "query_vec = get_weighted_sentence_vector(clean_query, w2v_model, tfidf_vectorizer)\n",
    "query_vec = normalize(query_vec.reshape(1, -1))[0]\n",
    "\n",
    "# 6. Truy vấn Qdrant\n",
    "hits = client.search(\n",
    "    collection_name=\"Word2Vec_Law_document_retrivial\",\n",
    "    query_vector=query_vec,\n",
    "    limit=10\n",
    ")\n",
    "\n",
    "# 7. In kết quả\n",
    "for hit in hits:\n",
    "    print(f\"Score: {hit.score:.4f} | law_id: {hit.payload['law_id']} | article_id: {hit.payload['article_id']} \")"
   ]
  }
 ],
 "metadata": {
  "kernelspec": {
   "display_name": "QandA",
   "language": "python",
   "name": "python3"
  },
  "language_info": {
   "codemirror_mode": {
    "name": "ipython",
    "version": 3
   },
   "file_extension": ".py",
   "mimetype": "text/x-python",
   "name": "python",
   "nbconvert_exporter": "python",
   "pygments_lexer": "ipython3",
   "version": "3.10.16"
  }
 },
 "nbformat": 4,
 "nbformat_minor": 5
}
