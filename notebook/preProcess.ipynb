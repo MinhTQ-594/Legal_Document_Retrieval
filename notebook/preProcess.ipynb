{
 "cells": [
  {
   "cell_type": "markdown",
   "metadata": {},
   "source": [
    "# **Pre-Processing data**"
   ]
  },
  {
   "cell_type": "code",
   "execution_count": null,
   "metadata": {},
   "outputs": [],
   "source": [
    "import os\n",
    "import py_vncorenlp\n",
    "import json\n",
    "import re\n",
    "from tqdm.auto import tqdm"
   ]
  },
  {
   "cell_type": "code",
   "execution_count": null,
   "metadata": {},
   "outputs": [],
   "source": [
    "NOTEBOOK_DIR = os.getcwd()\n",
    "CAPSTONE_DIR = os.path.abspath(os.path.join(os.getcwd(), \"..\"))\n",
    "DATASET_DIR = os.path.join(CAPSTONE_DIR, \"dataset\")\n",
    "MODEL_DIR = \"D:/VnCoreNLP\" # This is belong to your file location "
   ]
  },
  {
   "cell_type": "markdown",
   "metadata": {},
   "source": [
    "## Stop word"
   ]
  },
  {
   "cell_type": "code",
   "execution_count": null,
   "metadata": {},
   "outputs": [],
   "source": [
    "with open(os.path.join(DATASET_DIR, \"stopwords.txt\"), \"r\", encoding=\"utf-8\") as text_file:\n",
    "    content = text_file.readlines()\n",
    "with open(os.path.join(DATASET_DIR, \"stopwords_processed.txt\"), \"a\", encoding=\"utf-8\") as processed_file:\n",
    "    for word in content:\n",
    "        word_list = word.split()\n",
    "        processed_word = word_list[0]\n",
    "        if len(word_list) > 1:\n",
    "            processed_word = \"_\".join(word_list)\n",
    "        processed_file.write(processed_word + \"\\n\")"
   ]
  },
  {
   "cell_type": "markdown",
   "metadata": {},
   "source": [
    "## Legal Corpus"
   ]
  },
  {
   "cell_type": "code",
   "execution_count": null,
   "metadata": {},
   "outputs": [],
   "source": [
    "model = py_vncorenlp.VnCoreNLP(save_dir= MODEL_DIR)"
   ]
  },
  {
   "cell_type": "code",
   "execution_count": null,
   "metadata": {},
   "outputs": [],
   "source": [
    "with open(os.path.join(DATASET_DIR, \"stopwords_processed.txt\"), \"r\", encoding=\"utf-8\") as f:\n",
    "    stopwords_list = list(map(str.strip, f))\n",
    "\n",
    "pattern = r\"\\b(\" + \"|\".join(map(re.escape, stopwords_list)) + r\")\\b\"\n",
    "print(stopwords_list)"
   ]
  },
  {
   "cell_type": "code",
   "execution_count": null,
   "metadata": {},
   "outputs": [],
   "source": [
    "input_file = os.path.join(DATASET_DIR, \"legal_corpus.json\")\n",
    "output_file = os.path.join(DATASET_DIR, \"processed_legal_corpus.json\")\n",
    "\n",
    "with open(input_file, \"r\", encoding=\"utf-8\") as json_file:\n",
    "    data = json.load(json_file)\n",
    "\n",
    "total_documents = len(data)\n",
    "\n",
    "with open(output_file, \"w\", encoding=\"utf-8\") as out_file:\n",
    "    out_file.write(\"[\\n\")   \n",
    "    \n",
    "    for i, document in enumerate(tqdm(data, total=total_documents, desc=\"Processing documents\")):\n",
    "        for article in document[\"articles\"]:\n",
    "            article_title = article[\"title\"]\n",
    "            article_title_split = article_title.split(\". \")\n",
    "            if len(article_title_split) > 1:\n",
    "                article_title = article_title_split[1]\n",
    "            else:\n",
    "                article_title = \"\"\n",
    "            article_list = model.word_segment(article_title + \" \" + article[\"text\"])\n",
    "            article[\"segment_only\"] = \" \".join(article_list)\n",
    "            article[\"processed_in4\"] = re.sub(pattern, \"\", article[\"segment_only\"])\n",
    "            article[\"segment_only\"] = re.sub(r\"\\s+\", \" \", article[\"segment_only\"]).strip()\n",
    "            article[\"processed_in4\"] = re.sub(r\"\\s+\", \" \", article[\"processed_in4\"]).strip()\n",
    "        \n",
    "        json.dump(document, out_file, ensure_ascii=False, indent=4)\n",
    "        \n",
    "        if i < total_documents - 1:\n",
    "            out_file.write(\",\\n\")\n",
    "    \n",
    "    out_file.write(\"\\n]\")"
   ]
  }
 ],
 "metadata": {
  "kernelspec": {
   "display_name": "QandA",
   "language": "python",
   "name": "python3"
  },
  "language_info": {
   "codemirror_mode": {
    "name": "ipython",
    "version": 3
   },
   "file_extension": ".py",
   "mimetype": "text/x-python",
   "name": "python",
   "nbconvert_exporter": "python",
   "pygments_lexer": "ipython3",
   "version": "3.10.16"
  }
 },
 "nbformat": 4,
 "nbformat_minor": 2
}
