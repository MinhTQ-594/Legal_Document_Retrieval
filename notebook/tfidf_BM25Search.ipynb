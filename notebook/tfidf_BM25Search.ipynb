{
 "cells": [
  {
   "cell_type": "markdown",
   "id": "880be7b3",
   "metadata": {},
   "source": [
    "# **TF_IDF & BM25**"
   ]
  },
  {
   "cell_type": "code",
   "execution_count": null,
   "id": "a10fcf1b",
   "metadata": {},
   "outputs": [],
   "source": [
    "import os\n",
    "import json\n",
    "import joblib\n",
    "import pickle\n",
    "import py_vncorenlp\n",
    "import re\n",
    "import string\n",
    "from qdrant_client import QdrantClient\n",
    "from qdrant_client.http.models import Filter, FieldCondition, MatchAny\n",
    "from rank_bm25 import BM25Okapi\n",
    "from sklearn.preprocessing import normalize\n"
   ]
  },
  {
   "cell_type": "code",
   "execution_count": 2,
   "id": "cbd8e4f8",
   "metadata": {},
   "outputs": [],
   "source": [
    "current_dir = os.getcwd()\n",
    "PROJECT_DIR = os.path.dirname(current_dir)\n",
    "data_path = os.path.join(PROJECT_DIR, \"dataset\", \"processed_legal_corpus.json\")\n",
    "MODEL_DIR = \"D:/VnCoreNLP\" # This is belong to your file location \n",
    "DATASET_DIR = os.path.join(PROJECT_DIR, \"dataset\")\n",
    "VECTORIZER_DIR = os.path.join(PROJECT_DIR, \"vectorizer\")"
   ]
  },
  {
   "cell_type": "code",
   "execution_count": 3,
   "id": "7fbc9bba",
   "metadata": {},
   "outputs": [
    {
     "name": "stdout",
     "output_type": "stream",
     "text": [
      "61425\n",
      "61425\n"
     ]
    }
   ],
   "source": [
    "with open(data_path, \"r\", encoding=\"utf-8\") as json_file:\n",
    "    data = json.load(json_file)\n",
    "\n",
    "# Danh sách văn bản\n",
    "content = []\n",
    "index = [] # \"01/2009/tt-bnn 1\" (law_id + article_id)\n",
    "\n",
    "for document in data:\n",
    "    law_id = document[\"law_id\"]\n",
    "    for article in document[\"articles\"]:\n",
    "        article_id = article[\"article_id\"]\n",
    "        text = article[\"processed_in4\"]\n",
    "        clean_tokens = [token for token in text.split() if token not in string.punctuation]\n",
    "        clean_text = ' '.join(clean_tokens)\n",
    "        content.append(clean_text)\n",
    "        index.append(law_id + \" \" + article_id)\n",
    "print(len(content))\n",
    "print(len(index))"
   ]
  },
  {
   "cell_type": "code",
   "execution_count": null,
   "id": "1b2d5efd",
   "metadata": {},
   "outputs": [],
   "source": [
    "tokenized_corpus = [doc.split() for doc in content]\n",
    "bm25 = BM25Okapi(tokenized_corpus)\n",
    "\n",
    "with open(os.path.join(VECTORIZER_DIR, \"bm25.pkl\"), \"wb\") as f:\n",
    "    pickle.dump(bm25, f)"
   ]
  },
  {
   "cell_type": "code",
   "execution_count": 4,
   "id": "ce8d4d04",
   "metadata": {},
   "outputs": [],
   "source": [
    "tf_idf_vectorizer = joblib.load(os.path.join(VECTORIZER_DIR, 'tfidf_vectorizer.pkl'))\n",
    "with open(os.path.join(VECTORIZER_DIR, \"bm25.pkl\"), \"rb\") as f:\n",
    "    bm25 = pickle.load(f)"
   ]
  },
  {
   "cell_type": "code",
   "execution_count": 5,
   "id": "661b5a3a",
   "metadata": {},
   "outputs": [],
   "source": [
    "## Initial the segmentation model and the pattern to remove the stop word\n",
    "model = py_vncorenlp.VnCoreNLP(save_dir= MODEL_DIR)\n",
    "with open(os.path.join(DATASET_DIR, \"stopwords_processed.txt\"), \"r\", encoding=\"utf-8\") as f:\n",
    "    stopwords_list = list(map(str.strip, f))\n",
    "\n",
    "pattern = r\"\\b(\" + \"|\".join(map(re.escape, stopwords_list)) + r\")\\b\""
   ]
  },
  {
   "cell_type": "code",
   "execution_count": 9,
   "id": "88513971",
   "metadata": {},
   "outputs": [],
   "source": [
    "client = QdrantClient(host=\"localhost\", port=6333)"
   ]
  },
  {
   "cell_type": "code",
   "execution_count": null,
   "id": "6705836f",
   "metadata": {},
   "outputs": [],
   "source": [
    "def precessing_query(query, segmented_model):\n",
    "    query_list = segmented_model.word_segment(query) # segment\n",
    "    query = \" \".join(query_list) \n",
    "    query = re.sub(pattern, \"\", query) # remove stop word\n",
    "    query = re.sub(r\"\\s+\", \" \", query).strip() # Remove the redundancy\n",
    "    query_word = [token for token in query.split() if token not in string.punctuation]\n",
    "    clean_query = ' '.join(query_word)\n",
    "\n",
    "    return clean_query"
   ]
  },
  {
   "cell_type": "code",
   "execution_count": null,
   "id": "0440abb9",
   "metadata": {},
   "outputs": [],
   "source": [
    "\"\"\"\n",
    "    REQUIRE TO:\n",
    "        ACCESS AS THE CLIENT TO THE QDRANT\n",
    "        LOAD THE SEGMENTED model\n",
    "        LOAD THE BM25\n",
    "        LOAD THE TFIDF VECTORIZER\n",
    "\"\"\"\n",
    "def get_result(query, vectorizer, bm25, segmented_model, client, N = 50):\n",
    "    cleaned_query = precessing_query(query, segmented_model)\n",
    "\n",
    "    # filter by bm25\n",
    "    bm25_scores = bm25.get_scores(cleaned_query.split())\n",
    "    top_n_idx = sorted(range(len(bm25_scores)), key=lambda i: -bm25_scores[i])[:N]\n",
    "\n",
    "    query_vec = vectorizer.transform([cleaned_query])\n",
    "    query_vec = normalize(query_vec).toarray()[0]\n",
    "\n",
    "    hits = client.search(\n",
    "        collection_name=\"tfidf_search_Law_document_retrivial\",\n",
    "        query_vector=query_vec,  # convert từ numpy sang list\n",
    "        limit=50,\n",
    "        with_payload=True,\n",
    "        query_filter=Filter(\n",
    "            must=[\n",
    "                FieldCondition(\n",
    "                    key=\"doc_id\",\n",
    "                    match=MatchAny(any=top_n_idx)  # danh sách ID (int hoặc str)\n",
    "                )\n",
    "            ]\n",
    "        )\n",
    "    )\n",
    "\n",
    "    # Combine the score of tf_idf and bm25 to get the final score and rerank the answer\n",
    "    final_results = []\n",
    "    for hit in hits:\n",
    "        qdrant_score = hit.score               # cosine similarity\n",
    "        doc_id = hit.id                        # id của tài liệu\n",
    "        bm25_score = bm25_scores[int(doc_id)]  # phải đảm bảo doc_id khớp thứ tự BM25\n",
    "\n",
    "        # Normalize BM25 score\n",
    "        max_bm25 = max(bm25_scores) or 1\n",
    "        bm25_score_norm = bm25_score / max_bm25\n",
    "\n",
    "        # Kết hợp\n",
    "        alpha = 0.7\n",
    "        combined_score = alpha * qdrant_score + (1 - alpha) * bm25_score_norm\n",
    "\n",
    "        final_results.append({\n",
    "            \"id\": doc_id,\n",
    "            \"score\": combined_score,\n",
    "            \"qdrant_score\": qdrant_score,\n",
    "            \"bm25_score\": bm25_score_norm,\n",
    "            \"payload\": hit.payload\n",
    "        })\n",
    "\n",
    "    # Sắp xếp kết quả\n",
    "    final_results.sort(key=lambda x: x[\"score\"], reverse=True)\n",
    "\n",
    "    return final_results"
   ]
  },
  {
   "cell_type": "code",
   "execution_count": 39,
   "id": "47e1166f",
   "metadata": {},
   "outputs": [
    {
     "name": "stderr",
     "output_type": "stream",
     "text": [
      "C:\\Users\\Admin\\AppData\\Local\\Temp\\ipykernel_12860\\1775893552.py:18: DeprecationWarning: `search` method is deprecated and will be removed in the future. Use `query_points` instead.\n",
      "  hits = client.search(\n"
     ]
    }
   ],
   "source": [
    "query = \"Thời gian, hình thức giáo dục pháp luật, giáo dục công dân trong trại giam của phạm nhân được quy định như thế nào?\"\n",
    "final_results = get_result(query, tf_idf_vectorizer, bm25, model, client, N = 50)"
   ]
  },
  {
   "cell_type": "code",
   "execution_count": 40,
   "id": "c5fb256a",
   "metadata": {},
   "outputs": [
    {
     "name": "stdout",
     "output_type": "stream",
     "text": [
      "Score: 0.79932785 | law_id : 02/2012/ttlt-bca-bqp-btp-bgdđt | article_id : 9\n",
      "Score: 0.6885901076850319 | law_id : 02/2012/ttlt-bca-bqp-btp-bgdđt | article_id : 10\n",
      "Score: 0.6641323449370763 | law_id : 02/2012/ttlt-bca-bqp-btp-bgdđt | article_id : 11\n",
      "Score: 0.6089688159535045 | law_id : 02/2012/ttlt-bca-bqp-btp-bgdđt | article_id : 16\n",
      "Score: 0.6066579030969421 | law_id : 133/2020/nđ-cp | article_id : 17\n",
      "Score: 0.6062928282950482 | law_id : 12/2013/ttlt-bca-bqp-btc | article_id : 4\n",
      "Score: 0.5758304497355422 | law_id : 02/2012/ttlt-bca-bqp-btp-bgdđt | article_id : 7\n",
      "Score: 0.567360324472767 | law_id : 133/2020/nđ-cp | article_id : 12\n",
      "Score: 0.5487301813158554 | law_id : 133/2020/nđ-cp | article_id : 16\n",
      "Score: 0.5460582103428242 | law_id : 53/2010/qh12 | article_id : 28\n"
     ]
    }
   ],
   "source": [
    "for result in final_results[:10]:\n",
    "    print(f\"Score: {result['score']} | law_id : {result['payload']['law_id']} | article_id : {result['payload']['article_id']}\")"
   ]
  }
 ],
 "metadata": {
  "kernelspec": {
   "display_name": "QandA",
   "language": "python",
   "name": "python3"
  },
  "language_info": {
   "codemirror_mode": {
    "name": "ipython",
    "version": 3
   },
   "file_extension": ".py",
   "mimetype": "text/x-python",
   "name": "python",
   "nbconvert_exporter": "python",
   "pygments_lexer": "ipython3",
   "version": "3.10.16"
  }
 },
 "nbformat": 4,
 "nbformat_minor": 5
}
