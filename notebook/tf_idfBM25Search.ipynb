{
 "cells": [
  {
   "cell_type": "markdown",
   "id": "4d993fb2",
   "metadata": {},
   "source": [
    "# **TF-IDF Vectorizer**"
   ]
  },
  {
   "cell_type": "markdown",
   "id": "1040d9db",
   "metadata": {},
   "source": [
    "### **Set up for working**"
   ]
  },
  {
   "cell_type": "code",
   "execution_count": null,
   "id": "eeba7531",
   "metadata": {},
   "outputs": [],
   "source": [
    "import os\n",
    "import json\n",
    "import joblib\n",
    "import py_vncorenlp\n",
    "import re\n",
    "# import numpy as np\n",
    "from qdrant_client import QdrantClient\n",
    "from qdrant_client.models import VectorParams, Distance\n",
    "from sklearn.feature_extraction.text import TfidfVectorizer\n",
    "from sklearn.preprocessing import normalize\n"
   ]
  },
  {
   "cell_type": "code",
   "execution_count": null,
   "id": "6902503f",
   "metadata": {},
   "outputs": [],
   "source": [
    "current_dir = os.getcwd()\n",
    "PROJECT_DIR = os.path.dirname(current_dir)\n",
    "data_path = os.path.join(PROJECT_DIR, \"dataset\", \"processed_legal_corpus.json\")\n",
    "MODEL_DIR = \"D:/VnCoreNLP\" # This is belong to your file location \n",
    "DATASET_DIR = os.path.join(PROJECT_DIR, \"dataset\")\n",
    "VECTORIZER_DIR = os.path.join(PROJECT_DIR, \"vectorizer\")"
   ]
  },
  {
   "cell_type": "code",
   "execution_count": null,
   "metadata": {},
   "outputs": [],
   "source": [
    "## Initial the segmentation model and the pattern to remove the stop word\n",
    "model = py_vncorenlp.VnCoreNLP(save_dir= MODEL_DIR)\n",
    "with open(os.path.join(DATASET_DIR, \"stopwords_processed.txt\"), \"r\", encoding=\"utf-8\") as f:\n",
    "    stopwords_list = list(map(str.strip, f))\n",
    "\n",
    "pattern = r\"\\b(\" + \"|\".join(map(re.escape, stopwords_list)) + r\")\\b\""
   ]
  },
  {
   "cell_type": "markdown",
   "id": "c215ca1c",
   "metadata": {},
   "source": [
    "**Read the corpus**"
   ]
  },
  {
   "cell_type": "code",
   "execution_count": null,
   "id": "2c4ede0c",
   "metadata": {},
   "outputs": [],
   "source": [
    "with open(data_path, \"r\", encoding=\"utf-8\") as json_file:\n",
    "    data = json.load(json_file)\n",
    "\n",
    "# Danh sách văn bản\n",
    "content = []\n",
    "index = [] # \"01/2009/tt-bnn 1\" (law_id + article_id)\n",
    "\n",
    "for document in data:\n",
    "    law_id = document[\"law_id\"]\n",
    "    for article in document[\"articles\"]:\n",
    "        article_id = article[\"article_id\"]\n",
    "        content.append(article[\"processed_in4\"])\n",
    "        index.append(law_id + \" \" + article_id)\n",
    "print(len(content))\n",
    "print(len(index))\n"
   ]
  },
  {
   "cell_type": "markdown",
   "id": "68440a63",
   "metadata": {},
   "source": [
    "## **Vectorization by TF_IDF**"
   ]
  },
  {
   "cell_type": "code",
   "execution_count": null,
   "id": "26fae3f5",
   "metadata": {},
   "outputs": [],
   "source": [
    "# 1. TF-IDF vectorization\n",
    "vectorizer = TfidfVectorizer()\n",
    "tfidf_matrix = vectorizer.fit_transform(content)\n",
    "vectors = normalize(tfidf_matrix).toarray()  # chuẩn hóa để cosine hoạt động tốt\n",
    "\n",
    "# Lưu vectorizer đã huấn luyện\n",
    "joblib.dump(vectorizer, os.path.join(VECTORIZER_DIR, 'tfidf_vectorizer.pkl'))"
   ]
  },
  {
   "cell_type": "code",
   "execution_count": null,
   "id": "75b0330a",
   "metadata": {},
   "outputs": [],
   "source": [
    "# 2. Kết nối Qdrant\n",
    "client = QdrantClient(host=\"localhost\", port=6333)"
   ]
  },
  {
   "cell_type": "code",
   "execution_count": null,
   "id": "0d60cfef",
   "metadata": {},
   "outputs": [],
   "source": [
    "# 3. Tạo collection\n",
    "client.recreate_collection(\n",
    "    collection_name=\"tfidf_search_Law_document_retrivial\",\n",
    "    vectors_config=VectorParams(size=vectors.shape[1], distance=Distance.COSINE) # Using Cosinesimilarity for searching vector\n",
    ")"
   ]
  },
  {
   "cell_type": "code",
   "execution_count": null,
   "id": "731207f3",
   "metadata": {},
   "outputs": [],
   "source": [
    "# 4. Thêm dữ liệu\n",
    "payloads = [{\"law_id\": doc.split(\" \")[0], \"article_id\": doc.split(\" \")[1]} for doc in index]\n",
    "# points = [(i, vectors[i], payloads[i]) for i in range(len(documents))]\n",
    "points = [\n",
    "    {\n",
    "        \"id\": i,\n",
    "        \"vector\": vectors[i],\n",
    "        \"payload\": payloads[i]\n",
    "    }\n",
    "    for i in range(len(content))\n",
    "]\n",
    "for i in range(0, len(points), 100):\n",
    "    client.upsert(collection_name=\"tfidf_search_Law_document_retrivial\", points=points[i:i+100])"
   ]
  },
  {
   "cell_type": "markdown",
   "id": "d26765ea",
   "metadata": {},
   "source": [
    "## **Using**"
   ]
  },
  {
   "cell_type": "code",
   "execution_count": null,
   "id": "a2a7b028",
   "metadata": {},
   "outputs": [],
   "source": [
    "# 5. Nhập câu truy vấn và biến thành vector\n",
    "query = \"Đập phá biển báo “khu vực biên giới” bị phạt thế nào?\"\n",
    "query_list = model.word_segment(query) # segment\n",
    "query = \" \".join(query_list) \n",
    "query = re.sub(pattern, \"\", query) # remove stop word\n",
    "query = re.sub(r\"\\s+\", \" \", query).strip() # Remove the redundancy\n",
    "query_vec = vectorizer.transform([query])\n",
    "query_vec = normalize(query_vec).toarray()[0]\n",
    "\n",
    "# 6. Truy vấn Qdrant\n",
    "hits = client.search(\n",
    "    collection_name=\"tfidf_search_Law_document_retrivial\",\n",
    "    query_vector=query_vec,\n",
    "    limit=10\n",
    ")\n",
    "\n",
    "# 7. In kết quả\n",
    "for hit in hits:\n",
    "    print(f\"Score: {hit.score:.4f} | law_id: {hit.payload['law_id']} | article_id: {hit.payload['article_id']} \")"
   ]
  }
 ],
 "metadata": {
  "kernelspec": {
   "display_name": "QandA",
   "language": "python",
   "name": "python3"
  },
  "language_info": {
   "codemirror_mode": {
    "name": "ipython",
    "version": 3
   },
   "file_extension": ".py",
   "mimetype": "text/x-python",
   "name": "python",
   "nbconvert_exporter": "python",
   "pygments_lexer": "ipython3",
   "version": "3.10.16"
  }
 },
 "nbformat": 4,
 "nbformat_minor": 5
}
